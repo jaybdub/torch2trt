{
 "cells": [
  {
   "cell_type": "code",
   "execution_count": 1,
   "metadata": {},
   "outputs": [],
   "source": [
    "import torch\n",
    "import torch.nn as nn\n",
    "import torch.jit"
   ]
  },
  {
   "cell_type": "code",
   "execution_count": 3,
   "metadata": {},
   "outputs": [],
   "source": [
    "def graph_inputs(graph):\n",
    "    \"\"\"Returns inputs of graph as list of torch._C.Value\"\"\"\n",
    "    return list(graph.inputs())\n",
    "\n",
    "def graph_outputs(graph):\n",
    "    \"\"\"Returns outputs of graph as list of torch._C.Value\"\"\"\n",
    "    return list(graph.outputs())\n",
    "\n",
    "def val_size(val):\n",
    "    return val.type().sizes()\n",
    "\n",
    "def val_inputs(val):\n",
    "    return list(val.node().inputs())\n",
    "\n",
    "def val_outputs(val):\n",
    "    return list(val.node().outputs())\n",
    "\n",
    "def val_kind(val):\n",
    "    return val.node().kind()\n",
    "\n",
    "def val_is_tensor(val):\n",
    "    return val.isCompleteTensor()\n",
    "\n",
    "def val_scope_name(val):\n",
    "    return val.node().scopeName()\n",
    "\n",
    "def val_tensor(val):\n",
    "    return val.node().t('value')"
   ]
  },
  {
   "cell_type": "code",
   "execution_count": 4,
   "metadata": {},
   "outputs": [],
   "source": [
    "class MyModule(nn.Module):\n",
    "    \n",
    "    def __init__(self):\n",
    "        super(MyModule, self).__init__()\n",
    "        self.a = torch.randn(1, 3, 1, 1)\n",
    "        \n",
    "    def forward(self, x):\n",
    "        return x * torch.ones(1) * self.a"
   ]
  },
  {
   "cell_type": "code",
   "execution_count": 79,
   "metadata": {},
   "outputs": [],
   "source": [
    "model = MyModule()\n",
    "\n",
    "data = torch.zeros((1, 3, 224, 224))\n",
    "\n",
    "model_jit = torch.jit.trace(model, [data])\n",
    "\n",
    "graph = model_jit.graph"
   ]
  },
  {
   "cell_type": "code",
   "execution_count": 159,
   "metadata": {},
   "outputs": [
    {
     "name": "stdout",
     "output_type": "stream",
     "text": [
      "11 defined in (%11 : Float(1, 3, 224, 224) = aten::mul(%9, %10), scope: MyModule # <ipython-input-78-2efbdc103968>:8:0\n",
      ")\n",
      "9 defined in (%9 : Float(1, 3, 224, 224) = aten::mul(%x, %8), scope: MyModule # <ipython-input-78-2efbdc103968>:8:0\n",
      ")\n",
      "10 defined in (%10 : Float(1, 3, 1, 1) = prim::Constant[value=(1,1,.,.) =   -0.5971  (1,2,.,.) =    0.3635  (1,3,.,.) =    0.4893 [ Variable[CPUFloatType]{1,3,1,1} ]](), scope: MyModule # <ipython-input-78-2efbdc103968>:8:0\n",
      ")\n"
     ]
    }
   ],
   "source": [
    "queue = []\n",
    "\n",
    "queue += graph_outputs(graph)\n",
    "\n",
    "while queue:\n",
    "    val = queue.pop(0)\n",
    "    queue += val_inputs(val)\n",
    "    print(val)\n",
    "    \n",
    "    if val_kind(val) == 'prim::Constant':\n",
    "        break"
   ]
  }
 ],
 "metadata": {
  "kernelspec": {
   "display_name": "Python 3",
   "language": "python",
   "name": "python3"
  },
  "language_info": {
   "codemirror_mode": {
    "name": "ipython",
    "version": 3
   },
   "file_extension": ".py",
   "mimetype": "text/x-python",
   "name": "python",
   "nbconvert_exporter": "python",
   "pygments_lexer": "ipython3",
   "version": "3.5.2"
  }
 },
 "nbformat": 4,
 "nbformat_minor": 2
}
