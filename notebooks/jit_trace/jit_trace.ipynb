{
 "cells": [
  {
   "cell_type": "code",
   "execution_count": 1,
   "metadata": {},
   "outputs": [],
   "source": [
    "import torch\n",
    "import torch.nn as nn\n",
    "import torch.jit\n",
    "import tensorrt as trt\n",
    "from torch2trt import torch2trt_jit"
   ]
  },
  {
   "cell_type": "code",
   "execution_count": 2,
   "metadata": {},
   "outputs": [],
   "source": [
    "class MyModule(nn.Module):\n",
    "    \n",
    "    def __init__(self):\n",
    "        super(MyModule, self).__init__()\n",
    "        self.a = torch.randn(1, 3, 1, 1).cuda()\n",
    "        \n",
    "    def forward(self, x):\n",
    "        return x * self.a"
   ]
  },
  {
   "cell_type": "code",
   "execution_count": 3,
   "metadata": {},
   "outputs": [],
   "source": [
    "model = MyModule().cuda()\n",
    "\n",
    "data = torch.randn((1, 3, 224, 224)).cuda()\n",
    "\n",
    "model_jit = torch.jit.trace(model, [data])\n",
    "\n",
    "graph = model_jit.graph"
   ]
  },
  {
   "cell_type": "code",
   "execution_count": 4,
   "metadata": {},
   "outputs": [],
   "source": [
    "def scalar_type_to_trt(dtype):\n",
    "    if dtype == 'Float':\n",
    "        return trt.float32\n",
    "    elif dtype == 'Half':\n",
    "        return trt.float16\n",
    "    else:\n",
    "        raise TypeError('%s is not supported by tensorrt' % dtype)\n",
    "        \n",
    "\n",
    "CONVERTERS_JIT = {}\n",
    "\n",
    "\n",
    "def tensorrt_converter_jit(method):\n",
    "    def register_converter(converter):\n",
    "        CONVERTERS_JIT[method] = converter\n",
    "        return converter\n",
    "    return register_converter\n",
    "\n",
    "\n",
    "class Node(object):\n",
    "    \n",
    "    def __init__(self, ctx, node):\n",
    "        self.ctx = ctx\n",
    "        self.node = node\n",
    "        \n",
    "    def inputs(self):\n",
    "        return [Value(self.ctx, val) for val in self.node.inputs()]\n",
    "    \n",
    "    def outputs(self):\n",
    "        return [Value(self.ctx, val) for val in self.node.outputs()]\n",
    "    \n",
    "    def scope(self):\n",
    "        return self.node.scopeName()\n",
    "    \n",
    "    def kind(self):\n",
    "        return self.node.kind()\n",
    "    \n",
    "    def value(self):\n",
    "        return self.node.t('value')\n",
    "    \n",
    "    def add_layer(self, method, *args, **kwargs):\n",
    "        layer = method(self.ctx.network, *args, **kwargs)\n",
    "        return layer\n",
    "            \n",
    "\n",
    "class Value(object):\n",
    "    \n",
    "    def __init__(self, ctx, value):\n",
    "        self.ctx = ctx\n",
    "        self.value = value\n",
    "    \n",
    "    def node(self):\n",
    "        return Node(self.ctx, self.value.node())\n",
    "    \n",
    "    def name(self):\n",
    "        return self.value.debugName()\n",
    "    \n",
    "    def is_tensor(self):\n",
    "        return self.value.isCompleteTensor()\n",
    "    \n",
    "    def shape(self):\n",
    "        return tuple(self.value.type().sizes())\n",
    "    \n",
    "    def dtype_trt(self):\n",
    "        return scalar_type_to_trt(self.value.type().scalarType())\n",
    "    \n",
    "    def get_trt(self):\n",
    "        print('Val %s' % self.name())\n",
    "        if self.name() in self.ctx.tensors:\n",
    "            return self.ctx.tensors[self.name()]  # get tensor directly\n",
    "        elif self.node().kind() in self.ctx.converters:\n",
    "            print('Calling converter for %s' % self.node().kind())\n",
    "            self.ctx.converters[self.node().kind()](self.node())  # attempt recursive conversion\n",
    "            return self.ctx.tensors[self.name()]  # tensor should now be set...\n",
    "        else:\n",
    "            raise KeyError('No converter found for %s' % self.node().kind())\n",
    "    \n",
    "    def set_trt(self, trt_tensor):\n",
    "        if self.name() not in self.ctx.tensors:\n",
    "            self.ctx.tensors[self.name()] = trt_tensor\n",
    "            trt_tensor.name = self.name()\n",
    "        else:\n",
    "            raise RuntimeException('TensorRT value already found in graph')\n",
    "\n",
    "\n",
    "class Context():\n",
    "    \n",
    "    def __init__(self, graph, network, converters=CONVERTERS_JIT):\n",
    "        self.graph = graph\n",
    "        self.network = network\n",
    "        self.tensors = {}\n",
    "        self.converters = converters\n",
    "        \n",
    "            \n",
    "def torch2trt_jit(module, inputs, log_level=trt.Logger.ERROR, max_batch_size=1,\n",
    "        fp16_mode=False, max_workspace_size=0, strict_type_constraints=False):\n",
    "    \n",
    "    model_jit = torch.jit.trace(model, data)\n",
    "    graph = model_jit.graph\n",
    "    \n",
    "    logger = trt.Logger()\n",
    "    builder = trt.Builder(logger)\n",
    "    \n",
    "    ctx = Context(graph, builder.create_network())\n",
    "    \n",
    "    for output_raw in graph_outputs(graph):\n",
    "        \n",
    "        output = Value(ctx, output_raw)\n",
    "        output_trt = output.get_trt()  # will recursively resolve tensorrt\n",
    "        \n",
    "        # now, ctx.trt_tensors\n",
    "        ctx.network.mark_output(output_trt)\n",
    "    \n",
    "    builder.max_workspace_size = max_workspace_size\n",
    "    builder.fp16_mode = fp16_mode\n",
    "    builder.max_batch_size = max_batch_size\n",
    "    builder.strict_type_constraints = strict_type_constraints\n",
    "\n",
    "    engine = builder.build_cuda_engine(ctx.network)\n",
    "        \n",
    "    input_names = [Value(ctx, val).name() for val in list(graph.inputs())[1:]] # excludes 'self'\n",
    "    output_names = [Value(ctx, val).name() for val in list(graph.outputs())]\n",
    "    \n",
    "    return TRTModule(engine=engine, input_names=input_names, output_names=output_names), ctx.network"
   ]
  },
  {
   "cell_type": "code",
   "execution_count": 5,
   "metadata": {},
   "outputs": [],
   "source": [
    "@tensorrt_converter_jit('prim::Constant')\n",
    "def convert_constant(node):\n",
    "    output = node.outputs()[0]\n",
    "    layer = node.add_layer(trt.INetworkDefinition.add_constant, output.shape()[1:], node.value().cpu().numpy())\n",
    "    output.set_trt(layer.get_output(0))\n",
    "    \n",
    "    \n",
    "@tensorrt_converter_jit('prim::Param')\n",
    "def convert_param(node):\n",
    "    for val in node.outputs():\n",
    "        if val.is_tensor():\n",
    "            input_trt = node.add_layer(trt.INetworkDefinition.add_input, val.name(), val.dtype_trt(), val.shape()[1:])\n",
    "            val.set_trt(input_trt)\n",
    "            \n",
    "            \n",
    "@tensorrt_converter_jit('aten::mul')\n",
    "def convert_mul(node):\n",
    "    layer = node.add_layer(trt.INetworkDefinition.add_elementwise,\n",
    "        node.inputs()[0].get_trt(),\n",
    "        node.inputs()[1].get_trt(),\n",
    "        trt.ElementWiseOperation.PROD\n",
    "    )\n",
    "    node.outputs()[0].set_trt(layer.get_output(0))"
   ]
  },
  {
   "cell_type": "code",
   "execution_count": 4,
   "metadata": {},
   "outputs": [
    {
     "name": "stdout",
     "output_type": "stream",
     "text": [
      "Val 3\n",
      "Calling converter for aten::mul\n",
      "Val x\n",
      "Calling converter for prim::Param\n",
      "Val 2\n",
      "Calling converter for prim::Constant\n"
     ]
    }
   ],
   "source": [
    "model_trt = torch2trt_jit(model, [data])"
   ]
  },
  {
   "cell_type": "code",
   "execution_count": 5,
   "metadata": {},
   "outputs": [
    {
     "data": {
      "text/plain": [
       "tensor([[[[0., 0., 0.,  ..., 0., 0., 0.],\n",
       "          [0., 0., 0.,  ..., 0., 0., 0.],\n",
       "          [0., 0., 0.,  ..., 0., 0., 0.],\n",
       "          ...,\n",
       "          [0., 0., 0.,  ..., 0., 0., 0.],\n",
       "          [0., 0., 0.,  ..., 0., 0., 0.],\n",
       "          [0., 0., 0.,  ..., 0., 0., 0.]],\n",
       "\n",
       "         [[0., 0., 0.,  ..., 0., 0., 0.],\n",
       "          [0., 0., 0.,  ..., 0., 0., 0.],\n",
       "          [0., 0., 0.,  ..., 0., 0., 0.],\n",
       "          ...,\n",
       "          [0., 0., 0.,  ..., 0., 0., 0.],\n",
       "          [0., 0., 0.,  ..., 0., 0., 0.],\n",
       "          [0., 0., 0.,  ..., 0., 0., 0.]],\n",
       "\n",
       "         [[0., 0., 0.,  ..., 0., 0., 0.],\n",
       "          [0., 0., 0.,  ..., 0., 0., 0.],\n",
       "          [0., 0., 0.,  ..., 0., 0., 0.],\n",
       "          ...,\n",
       "          [0., 0., 0.,  ..., 0., 0., 0.],\n",
       "          [0., 0., 0.,  ..., 0., 0., 0.],\n",
       "          [0., 0., 0.,  ..., 0., 0., 0.]]]], device='cuda:0')"
      ]
     },
     "execution_count": 5,
     "metadata": {},
     "output_type": "execute_result"
    }
   ],
   "source": [
    "model_trt(data) - model(data)"
   ]
  },
  {
   "cell_type": "code",
   "execution_count": 63,
   "metadata": {},
   "outputs": [
    {
     "data": {
      "text/plain": [
       "['x']"
      ]
     },
     "execution_count": 63,
     "metadata": {},
     "output_type": "execute_result"
    }
   ],
   "source": [
    "inp"
   ]
  },
  {
   "cell_type": "code",
   "execution_count": 64,
   "metadata": {},
   "outputs": [
    {
     "data": {
      "text/plain": [
       "['3']"
      ]
     },
     "execution_count": 64,
     "metadata": {},
     "output_type": "execute_result"
    }
   ],
   "source": [
    "oup"
   ]
  },
  {
   "cell_type": "code",
   "execution_count": 6,
   "metadata": {},
   "outputs": [],
   "source": [
    "from torch2trt.utils import trt_network_to_dot_graph"
   ]
  },
  {
   "cell_type": "code",
   "execution_count": 49,
   "metadata": {},
   "outputs": [
    {
     "data": {
      "text/plain": [
       "graph(%self : ClassType<MyModule>,\n",
       "      %x : Float(1, 3, 224, 224)):\n",
       "  %2 : Float(1, 3, 1, 1) = prim::Constant[value=(1,1,.,.) =   -1.1015  (1,2,.,.) =   0.01 *   8.5608  (1,3,.,.) =   -0.4466 [ Variable[CPUFloatType]{1,3,1,1} ]](), scope: MyModule # <ipython-input-9-0e0d3c77cb20>:8:0\n",
       "  %3 : Float(1, 3, 224, 224) = aten::mul(%x, %2), scope: MyModule # <ipython-input-9-0e0d3c77cb20>:8:0\n",
       "  return (%3)"
      ]
     },
     "execution_count": 49,
     "metadata": {},
     "output_type": "execute_result"
    }
   ],
   "source": [
    "model_jit.graph"
   ]
  },
  {
   "cell_type": "code",
   "execution_count": 7,
   "metadata": {},
   "outputs": [
    {
     "data": {
      "image/svg+xml": [
       "<?xml version=\"1.0\" encoding=\"UTF-8\" standalone=\"no\"?>\n",
       "<!DOCTYPE svg PUBLIC \"-//W3C//DTD SVG 1.1//EN\"\n",
       " \"http://www.w3.org/Graphics/SVG/1.1/DTD/svg11.dtd\">\n",
       "<!-- Generated by graphviz version 2.40.1 (20161225.0304)\n",
       " -->\n",
       "<!-- Title: %3 Pages: 1 -->\n",
       "<svg width=\"359pt\" height=\"218pt\"\n",
       " viewBox=\"0.00 0.00 359.48 218.00\" xmlns=\"http://www.w3.org/2000/svg\" xmlns:xlink=\"http://www.w3.org/1999/xlink\">\n",
       "<g id=\"graph0\" class=\"graph\" transform=\"scale(1 1) rotate(0) translate(4 214)\">\n",
       "<title>%3</title>\n",
       "<polygon fill=\"#ffffff\" stroke=\"transparent\" points=\"-4,4 -4,-214 355.4764,-214 355.4764,4 -4,4\"/>\n",
       "<!-- (Unnamed Layer* 0) [Constant] -->\n",
       "<g id=\"node1\" class=\"node\">\n",
       "<title>(Unnamed Layer* 0) [Constant]</title>\n",
       "<ellipse fill=\"none\" stroke=\"#000000\" cx=\"124.7889\" cy=\"-192\" rx=\"124.5782\" ry=\"18\"/>\n",
       "<text text-anchor=\"middle\" x=\"124.7889\" y=\"-188.3\" font-family=\"Times,serif\" font-size=\"14.00\" fill=\"#000000\">(Unnamed Layer* 0) [Constant]</text>\n",
       "</g>\n",
       "<!-- (Unnamed Layer* 1) [ElementWise] -->\n",
       "<g id=\"node2\" class=\"node\">\n",
       "<title>(Unnamed Layer* 1) [ElementWise]</title>\n",
       "<ellipse fill=\"none\" stroke=\"#000000\" cx=\"209.7889\" cy=\"-105\" rx=\"141.8751\" ry=\"18\"/>\n",
       "<text text-anchor=\"middle\" x=\"209.7889\" y=\"-101.3\" font-family=\"Times,serif\" font-size=\"14.00\" fill=\"#000000\">(Unnamed Layer* 1) [ElementWise]</text>\n",
       "</g>\n",
       "<!-- (Unnamed Layer* 0) [Constant]&#45;&gt;(Unnamed Layer* 1) [ElementWise] -->\n",
       "<g id=\"edge1\" class=\"edge\">\n",
       "<title>(Unnamed Layer* 0) [Constant]&#45;&gt;(Unnamed Layer* 1) [ElementWise]</title>\n",
       "<path fill=\"none\" stroke=\"#000000\" d=\"M142.401,-173.9735C154.7097,-161.3752 171.3186,-144.3755 184.9674,-130.4055\"/>\n",
       "<polygon fill=\"#000000\" stroke=\"#000000\" points=\"187.7145,-132.6021 192.1994,-123.0034 182.7075,-127.7103 187.7145,-132.6021\"/>\n",
       "<text text-anchor=\"middle\" x=\"195.2889\" y=\"-144.8\" font-family=\"Times,serif\" font-size=\"14.00\" fill=\"#000000\">(3, 1, 1)</text>\n",
       "</g>\n",
       "<!-- 3 -->\n",
       "<g id=\"node4\" class=\"node\">\n",
       "<title>3</title>\n",
       "<ellipse fill=\"none\" stroke=\"#000000\" cx=\"209.7889\" cy=\"-18\" rx=\"27\" ry=\"18\"/>\n",
       "<text text-anchor=\"middle\" x=\"209.7889\" y=\"-14.3\" font-family=\"Times,serif\" font-size=\"14.00\" fill=\"#000000\">3</text>\n",
       "</g>\n",
       "<!-- (Unnamed Layer* 1) [ElementWise]&#45;&gt;3 -->\n",
       "<g id=\"edge3\" class=\"edge\">\n",
       "<title>(Unnamed Layer* 1) [ElementWise]&#45;&gt;3</title>\n",
       "<path fill=\"none\" stroke=\"#000000\" d=\"M209.7889,-86.9735C209.7889,-75.1918 209.7889,-59.5607 209.7889,-46.1581\"/>\n",
       "<polygon fill=\"#000000\" stroke=\"#000000\" points=\"213.289,-46.0033 209.7889,-36.0034 206.289,-46.0034 213.289,-46.0033\"/>\n",
       "<text text-anchor=\"middle\" x=\"245.7889\" y=\"-57.8\" font-family=\"Times,serif\" font-size=\"14.00\" fill=\"#000000\">(3, 224, 224)</text>\n",
       "</g>\n",
       "<!-- x -->\n",
       "<g id=\"node3\" class=\"node\">\n",
       "<title>x</title>\n",
       "<ellipse fill=\"none\" stroke=\"#000000\" cx=\"294.7889\" cy=\"-192\" rx=\"27\" ry=\"18\"/>\n",
       "<text text-anchor=\"middle\" x=\"294.7889\" y=\"-188.3\" font-family=\"Times,serif\" font-size=\"14.00\" fill=\"#000000\">x</text>\n",
       "</g>\n",
       "<!-- x&#45;&gt;(Unnamed Layer* 1) [ElementWise] -->\n",
       "<g id=\"edge2\" class=\"edge\">\n",
       "<title>x&#45;&gt;(Unnamed Layer* 1) [ElementWise]</title>\n",
       "<path fill=\"none\" stroke=\"#000000\" d=\"M279.9831,-176.8458C267.5078,-164.0769 249.3936,-145.5366 234.6916,-130.4886\"/>\n",
       "<polygon fill=\"#000000\" stroke=\"#000000\" points=\"236.8542,-127.6938 227.3623,-122.9869 231.8472,-132.5856 236.8542,-127.6938\"/>\n",
       "<text text-anchor=\"middle\" x=\"292.7889\" y=\"-144.8\" font-family=\"Times,serif\" font-size=\"14.00\" fill=\"#000000\">(3, 224, 224)</text>\n",
       "</g>\n",
       "</g>\n",
       "</svg>\n"
      ],
      "text/plain": [
       "<graphviz.dot.Digraph at 0x7f017f7438>"
      ]
     },
     "execution_count": 7,
     "metadata": {},
     "output_type": "execute_result"
    }
   ],
   "source": [
    "trt_network_to_dot_graph(model_trt.network)"
   ]
  }
 ],
 "metadata": {
  "kernelspec": {
   "display_name": "Python 3",
   "language": "python",
   "name": "python3"
  },
  "language_info": {
   "codemirror_mode": {
    "name": "ipython",
    "version": 3
   },
   "file_extension": ".py",
   "mimetype": "text/x-python",
   "name": "python",
   "nbconvert_exporter": "python",
   "pygments_lexer": "ipython3",
   "version": "3.6.8"
  }
 },
 "nbformat": 4,
 "nbformat_minor": 4
}
