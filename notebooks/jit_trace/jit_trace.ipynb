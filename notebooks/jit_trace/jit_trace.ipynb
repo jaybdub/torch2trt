{
 "cells": [
  {
   "cell_type": "code",
   "execution_count": null,
   "metadata": {},
   "outputs": [],
   "source": [
    "import torch\n",
    "import torch.nn as nn\n",
    "import torch.jit"
   ]
  },
  {
   "cell_type": "code",
   "execution_count": null,
   "metadata": {},
   "outputs": [],
   "source": [
    "def val_size(val):\n",
    "    return val.type().sizes()\n",
    "\n",
    "def val_inputs(val):\n",
    "    return list(val.node().inputs())\n",
    "\n",
    "def val_outputs(val):\n",
    "    return list(val.node().outputs())\n",
    "\n",
    "def val_kind(val):\n",
    "    return val.node().kind()\n",
    "\n",
    "def val_is_tensor(val):\n",
    "    return val.isCompleteTensor()"
   ]
  },
  {
   "cell_type": "code",
   "execution_count": null,
   "metadata": {},
   "outputs": [],
   "source": [
    "class MyModule(nn.Module):\n",
    "    \n",
    "    def __init__(self):\n",
    "        super(MyModule, self).__init__()\n",
    "        self.a = torch.ones(1)\n",
    "        \n",
    "    def forward(self, x):\n",
    "        return x * torch.ones(1) * self.a"
   ]
  }
 ],
 "metadata": {
  "kernelspec": {
   "display_name": "Python 3",
   "language": "python",
   "name": "python3"
  },
  "language_info": {
   "codemirror_mode": {
    "name": "ipython",
    "version": 3
   },
   "file_extension": ".py",
   "mimetype": "text/x-python",
   "name": "python",
   "nbconvert_exporter": "python",
   "pygments_lexer": "ipython3",
   "version": "3.5.2"
  }
 },
 "nbformat": 4,
 "nbformat_minor": 2
}
